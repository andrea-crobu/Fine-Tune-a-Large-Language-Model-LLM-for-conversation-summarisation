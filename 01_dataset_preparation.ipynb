{
 "cells": [
  {
   "cell_type": "markdown",
   "metadata": {},
   "source": [
    "# Phase 1: Dataset Preparation\n",
    "\n",
    "In this phase, we will prepare the dataset for text summarization using a ready-to-use dataset available on HuggingFace. The main tasks include:\n",
    "\n",
    "- **Dataset Loading:** Load a text summarization dataset that contains dialogs and their corresponding summarizations.\n",
    "\n",
    "- **Data Preprocessing:** Clean and format the dialogs and summaries to create input-target pairs.\n",
    "    In order to improve the performance of the model for conversation summarization, the following Flan-T5 prompt template is used\n",
    "\n",
    "    ```markdown\n",
    "    Here is a dialogue:\n",
    "\n",
    "        {dialogue}\n",
    "\n",
    "    Write a short summary!\n",
    "    ```\n",
    "\n",
    "- **Tokenizer Initialization:** Use the Flan-T5 tokenizer to process the dataset, ensuring the inputs are properly tokenized for the model.\n",
    "\n",
    "This phase sets the foundation by ensuring your data is clean, well-structured, and ready to be fed into the model.\n",
    "\n",
    "---"
   ]
  },
  {
   "cell_type": "markdown",
   "metadata": {},
   "source": [
    "### Load the data"
   ]
  },
  {
   "cell_type": "code",
   "execution_count": null,
   "metadata": {},
   "outputs": [],
   "source": [
    "import sys\n",
    "sys.path.insert(0,'../')\n",
    "\n",
    "from transformers import AutoTokenizer\n",
    "\n",
    "from Pipeline.data_retrieving.HuggingFace_DataRetriever import *\n",
    "from Pipeline.preprocessing.text_summarization_Preprocessor import *"
   ]
  },
  {
   "cell_type": "code",
   "execution_count": null,
   "metadata": {},
   "outputs": [],
   "source": [
    "huggingface_dataset_name = \"knkarthick/dialogsum\"\n",
    "\n",
    "data_retriever = HuggingFace_DataRetriever(huggingface_dataset_name)\n",
    "dataset = data_retriever.retrieve_data()"
   ]
  },
  {
   "cell_type": "code",
   "execution_count": null,
   "metadata": {},
   "outputs": [],
   "source": [
    "# divide in train, test and validation set\n",
    "train_set, test_set, validation_set = dataset['train'].to_pandas(), dataset['test'].to_pandas(), dataset['validation'].to_pandas()"
   ]
  },
  {
   "cell_type": "markdown",
   "metadata": {},
   "source": [
    "---"
   ]
  },
  {
   "cell_type": "markdown",
   "metadata": {},
   "source": [
    "### Preprocess the dataset"
   ]
  },
  {
   "cell_type": "code",
   "execution_count": null,
   "metadata": {},
   "outputs": [],
   "source": [
    "# define the model that will be used, in this project it will be Flan-T5-base\n",
    "model_name='google/flan-t5-base'"
   ]
  },
  {
   "cell_type": "code",
   "execution_count": null,
   "metadata": {},
   "outputs": [],
   "source": [
    "# initialize the tokenizer\n",
    "tokenizer = AutoTokenizer.from_pretrained(model_name)"
   ]
  },
  {
   "cell_type": "code",
   "execution_count": null,
   "metadata": {},
   "outputs": [],
   "source": [
    "input_preprocessing_params = {\n",
    "    'tokenizer': AutoTokenizer.from_pretrained(model_name)\n",
    "}\n",
    "\n",
    "output_preprocessing_params = {\n",
    "    'tokenizer': AutoTokenizer.from_pretrained(model_name)\n",
    "}\n",
    "\n",
    "preprocessor = TextSummarizationPreprocessor(input_preprocessing_params, output_preprocessing_params)"
   ]
  },
  {
   "cell_type": "code",
   "execution_count": null,
   "metadata": {},
   "outputs": [],
   "source": [
    "# preprocess the training set\n",
    "tokenized_training_inputs = preprocessor.preprocess_input_data(train_set['dialogue'])\n",
    "tokenized_training_outputs = preprocessor.preprocess_output_data(train_set['summary'])\n",
    "\n",
    "# preprocess the validation set\n",
    "tokenized_validation_inputs = preprocessor.preprocess_input_data(validation_set['dialogue'])\n",
    "tokenized_validation_outputs = preprocessor.preprocess_output_data(validation_set['summary'])\n",
    "\n",
    "# preprocess the test set\n",
    "tokenized_test_inputs = preprocessor.preprocess_input_data(test_set['dialogue'])\n",
    "tokenized_test_outputs = preprocessor.preprocess_output_data(test_set['summary'])"
   ]
  },
  {
   "cell_type": "markdown",
   "metadata": {},
   "source": [
    "### save locally the dataset, using the Hugging Face Dataset format"
   ]
  },
  {
   "cell_type": "code",
   "execution_count": null,
   "metadata": {},
   "outputs": [],
   "source": [
    "from datasets import Dataset, DatasetDict"
   ]
  },
  {
   "cell_type": "code",
   "execution_count": null,
   "metadata": {},
   "outputs": [],
   "source": [
    "#first create a dictionay\n",
    "dataset = {\n",
    "    'train_set': {\n",
    "                    'input_ids': tokenized_training_inputs,\n",
    "                    'labels': tokenized_training_outputs        \n",
    "                },\n",
    "\n",
    "    'validation_set': {\n",
    "                    'input_ids': tokenized_validation_inputs,\n",
    "                    'labels': tokenized_validation_outputs        \n",
    "                },\n",
    "    \n",
    "    'test_set': {\n",
    "                    'input_ids': tokenized_test_inputs,\n",
    "                    'labels': tokenized_test_outputs        \n",
    "                }\n",
    "}"
   ]
  },
  {
   "cell_type": "code",
   "execution_count": null,
   "metadata": {},
   "outputs": [],
   "source": [
    "# then convert each split into a Hugging Face Dataset\n",
    "train_dataset = Dataset.from_dict(dataset[\"train_set\"])\n",
    "validation_dataset = Dataset.from_dict(dataset[\"validation_set\"])\n",
    "test_dataset = Dataset.from_dict(dataset[\"test_set\"])"
   ]
  },
  {
   "cell_type": "code",
   "execution_count": null,
   "metadata": {},
   "outputs": [],
   "source": [
    "# and finally pack it into a DatasetDict structure\n",
    "dataset = DatasetDict({\n",
    "    \"train\": train_dataset,\n",
    "    \"validation\": validation_dataset,\n",
    "    \"test\": test_dataset\n",
    "})"
   ]
  },
  {
   "cell_type": "code",
   "execution_count": null,
   "metadata": {},
   "outputs": [],
   "source": [
    "# save locally\n",
    "import pickle\n",
    "\n",
    "# Open a file in write-binary mode\n",
    "with open(\"data/dataset_t5_base.pkl\", \"wb\") as file:\n",
    "    # Serialize the list and save it to the file\n",
    "    pickle.dump(dataset, file)\n"
   ]
  },
  {
   "cell_type": "code",
   "execution_count": null,
   "metadata": {},
   "outputs": [],
   "source": []
  }
 ],
 "metadata": {
  "kernelspec": {
   "display_name": "base",
   "language": "python",
   "name": "python3"
  },
  "language_info": {
   "codemirror_mode": {
    "name": "ipython",
    "version": 3
   },
   "file_extension": ".py",
   "mimetype": "text/x-python",
   "name": "python",
   "nbconvert_exporter": "python",
   "pygments_lexer": "ipython3",
   "version": "3.8.8"
  }
 },
 "nbformat": 4,
 "nbformat_minor": 2
}
